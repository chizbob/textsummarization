{
 "cells": [
  {
   "cell_type": "code",
   "execution_count": 1,
   "id": "e1682589-cf6c-4572-a890-fc742aeb8a0e",
   "metadata": {},
   "outputs": [
    {
     "name": "stderr",
     "output_type": "stream",
     "text": [
      "[nltk_data] Downloading package punkt to /Users/sokim/nltk_data...\n",
      "[nltk_data]   Package punkt is already up-to-date!\n"
     ]
    },
    {
     "data": {
      "text/plain": [
       "True"
      ]
     },
     "execution_count": 1,
     "metadata": {},
     "output_type": "execute_result"
    }
   ],
   "source": [
    "#https://github.com/miso-belica/sumy\n",
    "\n",
    "import sumy\n",
    "from sumy.summarizers.lex_rank import LexRankSummarizer\n",
    "from sumy.summarizers.lsa import LsaSummarizer\n",
    "from sumy.nlp.tokenizers import Tokenizer\n",
    "from sumy.parsers.plaintext import PlaintextParser\n",
    "from sumy.parsers.html import HtmlParser\n",
    "import nltk\n",
    "nltk.download('punkt')"
   ]
  },
  {
   "cell_type": "code",
   "execution_count": 2,
   "id": "3daae4e6-6aba-4ff4-9a6d-301863bfec6b",
   "metadata": {},
   "outputs": [],
   "source": [
    "#sample text to use for text extraction. The synopsys of movie Zootopia\n",
    "\n",
    "sample_text=\"\"\"\n",
    "Zootopia is a film set in a place where anthropomorphic mammals rule the land. \n",
    "Judy Hopps is a rabbit from ruralsville Bunnyburrow, and she sets out to fulfill her childhood dream of becoming a police officer in the megalopolis known as Zootopia.\n",
    "Even though Judy’s her academy’s valedictorian, Police Chief Bogo doesn’t think much of the fluffy bunny, and he assigns her to parking duty. \n",
    "That belief is backed up when she’s out on her first day, and a couple of con-artist foxes, Nick Wilde, and Finnick, swindle the new cop.\n",
    "Then after Judy leaves her parking duty to arrest Duke Weaselton for stealing a bag of crocus bulbs called Midnicampum holicithias, Chief Bogo reprimands her. \n",
    "Mrs. Otterton next walks into Chief Bogo’s office; pleading for someone to find her missing husband, Emmitt. He’s one of fourteen predators who have suddenly gone missing.\n",
    "Judy excitedly volunteers to take the case, and when Assistant Mayor Dawn Bellwether finds out about it, she forces Chief Bogo to let the bunny investigate. \n",
    "In true crime drama style, he gives Judy 48 hours to find Emmitt, or she’s off the police force.\n",
    "They find Manchas at his home where he claims Otterton yelled at him about night howlers before the attack. \n",
    "As Manchas tells them the story, he too turns savage, and chases after our heroes. Judy is able to trap him, and she then calls the ZPD for help, but Manchas escapes before they can arrive. \n",
    "Police Chief Bogo prematurely demands Judy’s resignation, but Nick jumps in to defend her as the two begin to bond over the incident.\n",
    "Next up, Judy and Nick head over to City Hall where they access to the city’s traffic cameras. \n",
    "They find that wolves captured Manchas, and Judy figures that they are the night howlers Otterton was screaming about.\n",
    "Eventually, they locate the missing predators at the Cliffside Asylum, and they all have turned savage. \n",
    "Zootopia’s Mayor, Leodore Lionheart, has been illegally holding them in secret while they try to figure out the cause of their feral behavior. \n",
    "Judy has Lionheart and the asylum staff arrested for false imprisonment, and Assistant Mayor Bellwether becomes the megapolis’ new mayor.\n",
    "After everyone heaps tons of praise on Judy for solving the case, she asks Nick to become her ZPD partner. \n",
    "However, when Judy says that she believes that predator biology is the root cause for the animals turning savage at a press conference, Nick refuses Judy’s offer out of spite (and the fact that he too is considered a predator species).\n",
    "Once back at Bunnyburrow, Judy learns that the night howlers mentioned are actually the crocus bulbs Weaselton stole at the beginning of the movie. \n",
    "They contain a neurotoxin that creates severe psychotropic effects in mammals; causing them to turn savage.\n",
    "With this news, Judy heads back to Zootopia, and reconciles with Nick. \n",
    "The two confront Weaselton, and he eventually reveals that the bulbs he stole were meant for a ram named Doug. They run off to find Doug who is at a hidden laboratory deep in the city’s subway system. \n",
    "He’s busy developing a drug made from night howlers, which he has been testing on predators by shooting them with a dart gun.\n",
    "Judy and Nick snatch the mystery drug for evidence, but before they can return to the ZPD, Mayor Bellwether finds them at the Natural History Museum. \n",
    "She reveals herself to be the mastermind of a prey-supremacist conspiracy seeking to frame predators as dangerous and savage.\n",
    "The film concludes as the ZPD arrests Bellwether for the scheme. \n",
    "Lionheart publicly denies any such knowledge of Bellwether’s plot; still defending his imprisonment of the savage predators. \n",
    "Doctors cure the savage animals, and Judy rejoins the ZPD. \n",
    "Nick soon graduates from Zootopia’s Police Academy as the city’s first fox police officer where the ZPD  assigns him to be Judy’s partner.\"\"\""
   ]
  },
  {
   "cell_type": "code",
   "execution_count": 3,
   "id": "2d4acc3e-128a-433c-8290-b7eea283f5a8",
   "metadata": {},
   "outputs": [],
   "source": [
    "sample_text = sample_text.replace(u'\\xa0', u' ')"
   ]
  },
  {
   "cell_type": "code",
   "execution_count": 4,
   "id": "5e8885fc-54e1-4386-bd60-385f08323cef",
   "metadata": {},
   "outputs": [
    {
     "data": {
      "text/plain": [
       "30"
      ]
     },
     "execution_count": 4,
     "metadata": {},
     "output_type": "execute_result"
    }
   ],
   "source": [
    "len(sample_text.split(\"\\n\"))"
   ]
  },
  {
   "cell_type": "code",
   "execution_count": 5,
   "id": "1195e2e4-6514-4842-b959-2a1c1c29b24e",
   "metadata": {},
   "outputs": [],
   "source": [
    "#parses simple text with the tokenizer \n",
    "string_parser = PlaintextParser.from_string(sample_text, Tokenizer(\"english\"))"
   ]
  },
  {
   "cell_type": "code",
   "execution_count": 6,
   "id": "b96c0202-b64f-47e9-9db4-53674c137d77",
   "metadata": {},
   "outputs": [
    {
     "data": {
      "text/plain": [
       "(<Sentence: Zootopia is a film set in a place where anthropomorphic mammals rule the land.>,\n",
       " <Sentence: Judy Hopps is a rabbit from ruralsville Bunnyburrow, and she sets out to fulfill her childhood dream of becoming a police officer in the megalopolis known as Zootopia.>,\n",
       " <Sentence: Even though Judy’s her academy’s valedictorian, Police Chief Bogo doesn’t think much of the fluffy bunny, and he assigns her to parking duty.>,\n",
       " <Sentence: That belief is backed up when she’s out on her first day, and a couple of con-artist foxes, Nick Wilde, and Finnick, swindle the new cop.>,\n",
       " <Sentence: Then after Judy leaves her parking duty to arrest Duke Weaselton for stealing a bag of crocus bulbs called Midnicampum holicithias, Chief Bogo reprimands her.>,\n",
       " <Sentence: Mrs. Otterton next walks into Chief Bogo’s office; pleading for someone to find her missing husband, Emmitt.>,\n",
       " <Sentence: He’s one of fourteen predators who have suddenly gone missing.>,\n",
       " <Sentence: They find Manchas at his home where he claims Otterton yelled at him about night howlers before the attack.>,\n",
       " <Sentence: As Manchas tells them the story, he too turns savage, and chases after our heroes.>,\n",
       " <Sentence: Police Chief Bogo prematurely demands Judy’s resignation, but Nick jumps in to defend her as the two begin to bond over the incident.>,\n",
       " <Sentence: Next up, Judy and Nick head over to City Hall where they access to the city’s traffic cameras.>,\n",
       " <Sentence: Eventually, they locate the missing predators at the Cliffside Asylum, and they all have turned savage.>,\n",
       " <Sentence: Judy has Lionheart and the asylum staff arrested for false imprisonment, and Assistant Mayor Bellwether becomes the megapolis’ new mayor.>,\n",
       " <Sentence: However, when Judy says that she believes that predator biology is the root cause for the animals turning savage at a press conference, Nick refuses Judy’s offer out of spite (and the fact that he too is considered a predator species).>,\n",
       " <Sentence: Once back at Bunnyburrow, Judy learns that the night howlers mentioned are actually the crocus bulbs Weaselton stole at the beginning of the movie.>,\n",
       " <Sentence: They run off to find Doug who is at a hidden laboratory deep in the city’s subway system.>,\n",
       " <Sentence: He’s busy developing a drug made from night howlers, which he has been testing on predators by shooting them with a dart gun.>,\n",
       " <Sentence: Judy and Nick snatch the mystery drug for evidence, but before they can return to the ZPD, Mayor Bellwether finds them at the Natural History Museum.>,\n",
       " <Sentence: She reveals herself to be the mastermind of a prey-supremacist conspiracy seeking to frame predators as dangerous and savage.>,\n",
       " <Sentence: Nick soon graduates from Zootopia’s Police Academy as the city’s first fox police officer where the ZPD  assigns him to be Judy’s partner.>)"
      ]
     },
     "execution_count": 6,
     "metadata": {},
     "output_type": "execute_result"
    }
   ],
   "source": [
    "#selects top 20 best sentences by uses tf-idf metric (top 20 rankings), increases or decreases the number of sentences \n",
    "Lex = LexRankSummarizer()\n",
    "string_lex_summary = Lex(document=string_parser.document, sentences_count=20)\n",
    "string_lex_summary"
   ]
  },
  {
   "cell_type": "code",
   "execution_count": 7,
   "id": "65cdb621-4110-44e9-8e87-4e9b9f74371e",
   "metadata": {},
   "outputs": [
    {
     "data": {
      "text/plain": [
       "(<Sentence: Judy Hopps is a rabbit from ruralsville Bunnyburrow, and she sets out to fulfill her childhood dream of becoming a police officer in the megalopolis known as Zootopia.>,\n",
       " <Sentence: Even though Judy’s her academy’s valedictorian, Police Chief Bogo doesn’t think much of the fluffy bunny, and he assigns her to parking duty.>,\n",
       " <Sentence: That belief is backed up when she’s out on her first day, and a couple of con-artist foxes, Nick Wilde, and Finnick, swindle the new cop.>,\n",
       " <Sentence: Then after Judy leaves her parking duty to arrest Duke Weaselton for stealing a bag of crocus bulbs called Midnicampum holicithias, Chief Bogo reprimands her.>,\n",
       " <Sentence: Mrs. Otterton next walks into Chief Bogo’s office; pleading for someone to find her missing husband, Emmitt.>,\n",
       " <Sentence: He’s one of fourteen predators who have suddenly gone missing.>,\n",
       " <Sentence: Judy excitedly volunteers to take the case, and when Assistant Mayor Dawn Bellwether finds out about it, she forces Chief Bogo to let the bunny investigate.>,\n",
       " <Sentence: In true crime drama style, he gives Judy 48 hours to find Emmitt, or she’s off the police force.>,\n",
       " <Sentence: As Manchas tells them the story, he too turns savage, and chases after our heroes.>,\n",
       " <Sentence: Judy is able to trap him, and she then calls the ZPD for help, but Manchas escapes before they can arrive.>,\n",
       " <Sentence: Police Chief Bogo prematurely demands Judy’s resignation, but Nick jumps in to defend her as the two begin to bond over the incident.>,\n",
       " <Sentence: They find that wolves captured Manchas, and Judy figures that they are the night howlers Otterton was screaming about.>,\n",
       " <Sentence: Zootopia’s Mayor, Leodore Lionheart, has been illegally holding them in secret while they try to figure out the cause of their feral behavior.>,\n",
       " <Sentence: Judy has Lionheart and the asylum staff arrested for false imprisonment, and Assistant Mayor Bellwether becomes the megapolis’ new mayor.>,\n",
       " <Sentence: After everyone heaps tons of praise on Judy for solving the case, she asks Nick to become her ZPD partner.>,\n",
       " <Sentence: However, when Judy says that she believes that predator biology is the root cause for the animals turning savage at a press conference, Nick refuses Judy’s offer out of spite (and the fact that he too is considered a predator species).>,\n",
       " <Sentence: They contain a neurotoxin that creates severe psychotropic effects in mammals; causing them to turn savage.>,\n",
       " <Sentence: The two confront Weaselton, and he eventually reveals that the bulbs he stole were meant for a ram named Doug.>,\n",
       " <Sentence: They run off to find Doug who is at a hidden laboratory deep in the city’s subway system.>,\n",
       " <Sentence: He’s busy developing a drug made from night howlers, which he has been testing on predators by shooting them with a dart gun.>)"
      ]
     },
     "execution_count": 7,
     "metadata": {},
     "output_type": "execute_result"
    }
   ],
   "source": [
    "#selects top 20 best sentences this time by LSA summarizer \n",
    "Lsa = LsaSummarizer()\n",
    "string_lsa_summary = Lsa(document=string_parser.document, sentences_count=20)\n",
    "string_lsa_summary"
   ]
  },
  {
   "cell_type": "code",
   "execution_count": 8,
   "id": "ad297143-7b7d-4ec0-8270-ffe69ab628b7",
   "metadata": {},
   "outputs": [
    {
     "data": {
      "text/plain": [
       "(<Sentence: VA Palo Alto Farmers' MarketGrocery Store / Supermarket, Fruit and Vegetable Store, Farmers' Market • 0.9 miles>,\n",
       " <Sentence: Italian Restaurant, French Restaurant • 0.9 miles>,\n",
       " <Sentence: French Restaurant, American Restaurant • 0.8 miles>,\n",
       " <Sentence: Deli, Sandwich Restaurant, American Restaurant • 0.7 miles>,\n",
       " <Sentence: Deli, Burger Joint, Sandwich Restaurant, Butcher, Gourmet Store, Grocery Store / Supermarket • 0.7 miles>)"
      ]
     },
     "execution_count": 8,
     "metadata": {},
     "output_type": "execute_result"
    }
   ],
   "source": [
    "url = \"https://www.redfin.com/CA/Palo-Alto/831-Chimalus-Dr-94306/home/108303777\"\n",
    "html_parser = HtmlParser.from_url(url, Tokenizer(\"english\"))\n",
    "html_lex_summary = Lex(document=html_parser.document, sentences_count=5)\n",
    "html_lex_summary"
   ]
  },
  {
   "cell_type": "code",
   "execution_count": 9,
   "id": "ad6215e8-01a3-497b-89d8-f018f93fda01",
   "metadata": {},
   "outputs": [
    {
     "data": {
      "text/plain": [
       "(<Sentence: Lilliput Infant And Preschool Casual Chic Salon An Azemi Company Hairstyles by Nicole Fike Julian Chase Hair DesignHair Removal Service • 0.9 miles>,\n",
       " <Sentence: Little Duck's Home Daycare Koda Integrative Massage and Body TherapyMassage Clinic • 1.0 miles>,\n",
       " <Sentence: Victoria Ballet & beyond Avalon Art & Yoga CenterGym and Studio • 0.8 miles>,\n",
       " <Sentence: Nearby grocery stores include California Avenue Farmers' Market, Country Sun Natural Foods, and The HoneyBaked Ham Co..>,\n",
       " <Sentence: Nearby food & drink options include State Of Mind Slice House, Protégé, and Calave.>)"
      ]
     },
     "execution_count": 9,
     "metadata": {},
     "output_type": "execute_result"
    }
   ],
   "source": [
    "html_lsa_summary = Lsa(document=html_parser.document, sentences_count=5)\n",
    "html_lsa_summary"
   ]
  },
  {
   "cell_type": "code",
   "execution_count": 10,
   "id": "959d7eaf-a074-4fd1-94c9-2edb0bc0d1a6",
   "metadata": {},
   "outputs": [],
   "source": [
    "#Abstractive summarization \n",
    "\n",
    "from transformers import pipeline\n",
    "from pprint import pprint"
   ]
  },
  {
   "cell_type": "code",
   "execution_count": null,
   "id": "ae8f827f-651d-4852-bc96-84f3521c0467",
   "metadata": {},
   "outputs": [],
   "source": []
  },
  {
   "cell_type": "code",
   "execution_count": 11,
   "id": "98d2d6fa-654f-4761-acdb-46666e58a6d0",
   "metadata": {},
   "outputs": [
    {
     "data": {
      "text/plain": [
       "642"
      ]
     },
     "execution_count": 11,
     "metadata": {},
     "output_type": "execute_result"
    }
   ],
   "source": [
    "len(sample_text.split())"
   ]
  },
  {
   "cell_type": "code",
   "execution_count": 12,
   "id": "41377146-2939-4f0a-a6d5-fa4ff4a048c5",
   "metadata": {},
   "outputs": [
    {
     "name": "stderr",
     "output_type": "stream",
     "text": [
      "No model was supplied, defaulted to sshleifer/distilbart-cnn-12-6 (https://huggingface.co/sshleifer/distilbart-cnn-12-6)\n"
     ]
    }
   ],
   "source": [
    "#default pipeline (default to distilbart-cnn)\n",
    "summarizer = pipeline(\"summarization\")"
   ]
  },
  {
   "cell_type": "code",
   "execution_count": 13,
   "id": "0e9c4ab9-427a-4564-99d7-4b1a399eb3a0",
   "metadata": {},
   "outputs": [
    {
     "name": "stdout",
     "output_type": "stream",
     "text": [
      "[{'summary_text': ' Judy Hopps is a rabbit from ruralsville Bunnyburrow, and '\n",
      "                  'she sets out to fulfill her childhood dream of becoming a '\n",
      "                  'police officer in the megalopolis known as Zootopia . '\n",
      "                  'Police Chief Bogo gives Judy 48 hours to find Emmitt, or '\n",
      "                  \"she's off the police force . Judy and Nick find predators \"\n",
      "                  'at the Cliffside Asylum, and they all have turned savage .'}]\n"
     ]
    }
   ],
   "source": [
    "pprint(summarizer(sample_text)) #six lines"
   ]
  },
  {
   "cell_type": "code",
   "execution_count": 14,
   "id": "fde44fbc-c1d3-4cca-8a30-1b81b8efebeb",
   "metadata": {},
   "outputs": [],
   "source": [
    "#pegasus pipeline\n",
    "pegasus_summarizer = pipeline(\"summarization\", model=\"google/pegasus-xsum\", tokenizer=\"google/pegasus-xsum\", framework=\"pt\")\n"
   ]
  },
  {
   "cell_type": "code",
   "execution_count": 15,
   "id": "d9918145-495c-4b2d-8170-5287e9eb1043",
   "metadata": {},
   "outputs": [
    {
     "name": "stdout",
     "output_type": "stream",
     "text": [
      "[{'summary_text': 'Judy Hopps is a rabbit from ruralsville Bunnyburrow, and '\n",
      "                  'she sets out to fulfill her childhood dream of becoming a '\n",
      "                  'police officer in the megalopolis known as Zootopia. Judy '\n",
      "                  'Hopps is a rabbit from ruralsville Bunnybur'}]\n"
     ]
    }
   ],
   "source": [
    "pegasus_summarized = pegasus_summarizer(sample_text, min_length=25, max_length=50, truncation=True)\n",
    "pprint(pegasus_summarized) #four lines"
   ]
  },
  {
   "cell_type": "code",
   "execution_count": 16,
   "id": "02c1c387-98c3-41ed-9dc8-ac7545a3efb2",
   "metadata": {},
   "outputs": [
    {
     "name": "stderr",
     "output_type": "stream",
     "text": [
      "All model checkpoint layers were used when initializing TFBartForConditionalGeneration.\n",
      "\n",
      "All the layers of TFBartForConditionalGeneration were initialized from the model checkpoint at facebook/bart-large.\n",
      "If your task is similar to the task the model of the checkpoint was trained on, you can already use TFBartForConditionalGeneration for predictions without further training.\n"
     ]
    },
    {
     "name": "stdout",
     "output_type": "stream",
     "text": [
      "[{'summary_text': 'Zootopia is a film set in a place where anthropomorphic '\n",
      "                  'mammals rule the '\n",
      "                  'land.  \\xa0 \\xa0 \\xa0 \\xa0 \\xa0 \\xa0 \\xa0 \\xa0Judy Hopps is '\n",
      "                  'a rabbit from ruralsville Bunnyburrow, and she sets out to '\n",
      "                  'fulfill her childhood dream of becoming'}]\n"
     ]
    }
   ],
   "source": [
    "#bart pipeline\n",
    "bart_summarizer = pipeline(\"summarization\", model=\"facebook/bart-large\", tokenizer=\"facebook/bart-large\", framework=\"tf\")\n",
    "bart_summarized = bart_summarizer(sample_text, min_length=25, max_length=50, truncation=True)\n",
    "pprint(bart_summarized)"
   ]
  },
  {
   "cell_type": "markdown",
   "id": "9083ae92-bd42-42be-90e6-0a117f069c96",
   "metadata": {},
   "source": [
    "\n",
    "Conclusion: \n",
    "    - out of the 3 models distilbart-cnn, pegasus and bart summarizers pegasus seems to work the best. It summarized the sample text to lesser number of sentences."
   ]
  }
 ],
 "metadata": {
  "kernelspec": {
   "display_name": "Python 3",
   "language": "python",
   "name": "python3"
  },
  "language_info": {
   "codemirror_mode": {
    "name": "ipython",
    "version": 3
   },
   "file_extension": ".py",
   "mimetype": "text/x-python",
   "name": "python",
   "nbconvert_exporter": "python",
   "pygments_lexer": "ipython3",
   "version": "3.8.8"
  }
 },
 "nbformat": 4,
 "nbformat_minor": 5
}
